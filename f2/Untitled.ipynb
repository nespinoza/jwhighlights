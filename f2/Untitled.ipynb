{
 "cells": [
  {
   "cell_type": "markdown",
   "id": "e605293d-e2f8-411a-b6f2-d1f71657eea8",
   "metadata": {},
   "source": [
    "# Using the JWST Exoplanet List (JWEL)\n",
    "--------\n",
    "**Author**: Nestor Espinoza (nespinoza@stsci.edu)\n",
    "\n",
    "Let's first read in the dictionary:"
   ]
  },
  {
   "cell_type": "code",
   "execution_count": 15,
   "id": "4d71656b-d718-4ba1-bae4-31f6582bec11",
   "metadata": {},
   "outputs": [],
   "source": [
    "import numpy as np\n",
    "from utils import read_file"
   ]
  },
  {
   "cell_type": "code",
   "execution_count": 16,
   "id": "9f17ebf0-6a87-4316-84a7-a4c6fc5da501",
   "metadata": {},
   "outputs": [],
   "source": [
    "thedict = read_file('documents/all.csv')"
   ]
  },
  {
   "cell_type": "markdown",
   "id": "c0dd2146-1077-4dc2-b491-30e078bad126",
   "metadata": {},
   "source": [
    "Let's check the dictionary keys:"
   ]
  },
  {
   "cell_type": "code",
   "execution_count": 17,
   "id": "45346176-b53f-47ea-95b6-36663b001a3a",
   "metadata": {},
   "outputs": [
    {
     "data": {
      "text/plain": [
       "dict_keys(['Cycle', 'PID', 'Star', 'J-magnitude', 'Planet', 'Stellar Radius (Solar Radii)', 'Stellar Mass (Solar Mass)', 'Stellar Teff (K)', 'Distance (pc)', 'Planet Mass (Earth masses)', 'Planet Radius (Earth radii)', 'Planet Teq (K)', 'Planet Period (days)', 'Planet semi-major axis (AU)', 'Observation', 'Instrument/Mode', 'Filter', 'Science Mode', 'Sub-science theme', 'Seconds on target', 'Target multiplier'])"
      ]
     },
     "execution_count": 17,
     "metadata": {},
     "output_type": "execute_result"
    }
   ],
   "source": [
    "thedict.keys()"
   ]
  },
  {
   "cell_type": "markdown",
   "id": "2164e978-80cc-4a40-9c8c-156985184e89",
   "metadata": {},
   "source": [
    "All right. Let's do some cuts. First, let's get the list of names of all the exoplanets observed by JWST:"
   ]
  },
  {
   "cell_type": "code",
   "execution_count": 18,
   "id": "d8491b23-37c0-4ba3-ba42-372bd6e10f07",
   "metadata": {},
   "outputs": [],
   "source": [
    "jwst_exoplanets = set(thedict['Planet'])"
   ]
  },
  {
   "cell_type": "code",
   "execution_count": 19,
   "id": "66a316a9-9cdf-47c0-af95-4c66bcee8f65",
   "metadata": {},
   "outputs": [
    {
     "data": {
      "text/plain": [
       "195"
      ]
     },
     "execution_count": 19,
     "metadata": {},
     "output_type": "execute_result"
    }
   ],
   "source": [
    "len(jwst_exoplanets)"
   ]
  },
  {
   "cell_type": "markdown",
   "id": "a911b470-6442-4933-9cb4-f01b226343e1",
   "metadata": {},
   "source": [
    "These are the number of unique exoplanets. Let's check which of those are sub-neptunes --- i.e., with radii between 1.8 and 4. To this end, first convert all the radii from string to float. First, identify empty values and set them to 9999: "
   ]
  },
  {
   "cell_type": "code",
   "execution_count": 20,
   "id": "d9461a91-f0eb-4b8b-9332-6c56182291a6",
   "metadata": {},
   "outputs": [],
   "source": [
    "idx = np.where(thedict['Planet Radius (Earth radii)'] == '')[0]\n",
    "thedict['Planet Radius (Earth radii)'][idx] = 9999."
   ]
  },
  {
   "cell_type": "markdown",
   "id": "19d3626c-fea1-4474-9762-3bcd767cbf4f",
   "metadata": {},
   "source": [
    "And now convert:"
   ]
  },
  {
   "cell_type": "code",
   "execution_count": 22,
   "id": "8517a36a-da20-4896-aa0e-e323f7f88816",
   "metadata": {},
   "outputs": [],
   "source": [
    "thedict['Planet Radius (Earth radii)'] = thedict['Planet Radius (Earth radii)'].astype('float')"
   ]
  },
  {
   "cell_type": "markdown",
   "id": "8cbd1b61-edf3-410e-8188-e70d2eb4e7bc",
   "metadata": {},
   "source": [
    "And find which one have radii between 1.8 and 4:"
   ]
  },
  {
   "cell_type": "code",
   "execution_count": 24,
   "id": "bc281a7c-37e2-4391-bc22-b10ee0f7bd67",
   "metadata": {},
   "outputs": [],
   "source": [
    "idx = np.where( (thedict['Planet Radius (Earth radii)'] > 1.8) & (thedict['Planet Radius (Earth radii)'] < 4) )[0]"
   ]
  },
  {
   "cell_type": "code",
   "execution_count": 25,
   "id": "32baf06e-9ff4-42ca-a66f-8ab08b310fa2",
   "metadata": {},
   "outputs": [
    {
     "data": {
      "text/plain": [
       "89"
      ]
     },
     "execution_count": 25,
     "metadata": {},
     "output_type": "execute_result"
    }
   ],
   "source": [
    "len(idx)"
   ]
  },
  {
   "cell_type": "markdown",
   "id": "95460ffc-c33e-49c2-a7a0-857064a0f69d",
   "metadata": {},
   "source": [
    "All right --- but those are not unique. Uniquify-them:"
   ]
  },
  {
   "cell_type": "code",
   "execution_count": 26,
   "id": "0028995d-ade1-45cd-9194-38a149ce6070",
   "metadata": {},
   "outputs": [],
   "source": [
    "jwst_subneptunes = set(thedict['Planet'][idx])"
   ]
  },
  {
   "cell_type": "code",
   "execution_count": 27,
   "id": "64a86c80-efd2-499c-984e-cca0a497b375",
   "metadata": {},
   "outputs": [
    {
     "data": {
      "text/plain": [
       "29"
      ]
     },
     "execution_count": 27,
     "metadata": {},
     "output_type": "execute_result"
    }
   ],
   "source": [
    "len(jwst_subneptunes)"
   ]
  },
  {
   "cell_type": "markdown",
   "id": "17f61873-74fa-4012-88d6-723ca4b0c4da",
   "metadata": {},
   "source": [
    "Let's get the list of those sub-Neptunes, and their associated program IDs:"
   ]
  },
  {
   "cell_type": "code",
   "execution_count": 31,
   "id": "0efcecec-b3b2-41c9-af8e-7e86671a6999",
   "metadata": {},
   "outputs": [
    {
     "name": "stdout",
     "output_type": "stream",
     "text": [
      "HD 15337 c  is being observed...\n",
      "...in cycle  1  by PID 2512 with NIRSpec/G395H\n",
      "...in cycle  1  by PID 2512 with NIRSpec/G395H\n",
      "\n",
      "\n",
      "TOI-2076 c  is being observed...\n",
      "...in cycle  3  by PID 5959 with NIRSpec/G395H\n",
      "...in cycle  3  by PID 5959 with NIRISS/SOSS\n",
      "\n",
      "\n",
      "TOI-1468 c  is being observed...\n",
      "...in cycle  2  by PID 3557 with NIRISS/SOSS\n",
      "...in cycle  2  by PID 3557 with NIRSpec/G395H\n",
      "...in cycle  2  by PID 3557 with MIRI/LRS\n",
      "\n",
      "\n",
      "GJ 9827 d  is being observed...\n",
      "...in cycle  2  by PID 4098 with NIRISS/SOSS\n",
      "...in cycle  2  by PID 4098 with NIRISS/SOSS\n",
      "...in cycle  2  by PID 4098 with NIRSpec/G395H\n",
      "...in cycle  2  by PID 4098 with NIRSpec/G395H\n",
      "\n",
      "\n",
      "TOI-824 b  is being observed...\n",
      "...in cycle  2  by PID 4102 with NIRSpec/G395M\n",
      "...in cycle  2  by PID 4102 with NIRSpec/G395M\n",
      "\n",
      "\n",
      "TOI-178 d  is being observed...\n",
      "...in cycle  1  by PID 2319 with NIRSpec/G395M\n",
      "\n",
      "\n",
      "55 Cancri e  is being observed...\n",
      "...in cycle  1  by PID 1952 with NIRCam/Grism\n",
      "...in cycle  1  by PID 1952 with NIRCam/CLEAR\n",
      "...in cycle  1  by PID 1952 with MIRI/LRS\n",
      "...in cycle  1  by PID 2084 with NIRCam/Grism\n",
      "...in cycle  1  by PID 2084 with NIRCam/CLEAR\n",
      "...in cycle  1  by PID 2084 with NIRCam/Grism\n",
      "...in cycle  1  by PID 2084 with NIRCam/CLEAR\n",
      "...in cycle  1  by PID 2084 with NIRCam/Grism\n",
      "...in cycle  1  by PID 2084 with NIRCam/CLEAR\n",
      "...in cycle  1  by PID 2084 with NIRCam/Grism\n",
      "...in cycle  1  by PID 2084 with NIRCam/CLEAR\n",
      "\n",
      "\n",
      "GJ 1214 b  is being observed...\n",
      "...in cycle  1  by PID 1803 with MIRI/LRS\n",
      "...in cycle  1  by PID 1185 with NIRSpec/G395H\n",
      "...in cycle  1  by PID 1185 with NIRSpec/G395H\n",
      "\n",
      "\n",
      "TOI-776 c  is being observed...\n",
      "...in cycle  1  by PID 2512 with NIRSpec/G395H\n",
      "...in cycle  1  by PID 2512 with NIRSpec/G395H\n",
      "\n",
      "\n",
      "TOI-270 d  is being observed...\n",
      "...in cycle  2  by PID 3557 with MIRI/LRS\n",
      "...in cycle  2  by PID 4098 with NIRISS/SOSS\n",
      "...in cycle  2  by PID 4098 with NIRSpec/G395H\n",
      "...in cycle  2  by PID 4098 with NIRSpec/G395H\n",
      "...in cycle  2  by PID 2759 with NIRISS/SOSS\n",
      "\n",
      "\n",
      "GJ 3090 b  is being observed...\n",
      "...in cycle  2  by PID 4098 with NIRISS/SOSS\n",
      "...in cycle  2  by PID 4098 with NIRISS/SOSS\n",
      "...in cycle  2  by PID 4098 with NIRSpec/G395H\n",
      "...in cycle  2  by PID 4098 with NIRSpec/G395H\n",
      "\n",
      "\n",
      "TOI-1130 b  is being observed...\n",
      "...in cycle  2  by PID 3385 with NIRSpec/G395H\n",
      "...in cycle  2  by PID 3385 with NIRISS/SOSS\n",
      "\n",
      "\n",
      "TOI-421 b  is being observed...\n",
      "...in cycle  1  by PID 1935 with NIRSpec/G395M\n",
      "...in cycle  1  by PID 1935 with NIRISS/SOSS\n",
      "\n",
      "\n",
      "WASP-47 e  is being observed...\n",
      "...in cycle  2  by PID 3615 with NIRSpec/G395H\n",
      "...in cycle  2  by PID 3615 with NIRSpec/G395H\n",
      "\n",
      "\n",
      "TOI-1231 b  is being observed...\n",
      "...in cycle  2  by PID 3557 with NIRISS/SOSS\n",
      "...in cycle  2  by PID 3557 with NIRSpec/G395H\n",
      "...in cycle  2  by PID 3557 with MIRI/LRS\n",
      "\n",
      "\n",
      "TOI-125 c  is being observed...\n",
      "...in cycle  2  by PID 4126 with NIRSpec/G395H\n",
      "\n",
      "\n",
      "TOI-178 g  is being observed...\n",
      "...in cycle  1  by PID 2319 with NIRSpec/G395M\n",
      "\n",
      "\n",
      "TOI-451 c  is being observed...\n",
      "...in cycle  3  by PID 5959 with NIRSpec/G395H\n",
      "...in cycle  3  by PID 5959 with NIRISS/SOSS\n",
      "\n",
      "\n",
      "LTT 3780 c  is being observed...\n",
      "...in cycle  2  by PID 3557 with NIRISS/SOSS\n",
      "...in cycle  2  by PID 3557 with NIRSpec/G395H\n",
      "...in cycle  2  by PID 3557 with MIRI/LRS\n",
      "\n",
      "\n",
      "Au Mic b  is being observed...\n",
      "...in cycle  3  by PID 5311 with NIRCam/Grism\n",
      "...in cycle  3  by PID 5311 with NIRCam/CLEAR\n",
      "...in cycle  3  by PID 5311 with NIRCam/Grism\n",
      "...in cycle  3  by PID 5311 with NIRCam/CLEAR\n",
      "...in cycle  3  by PID 5311 with NIRCam/Grism\n",
      "...in cycle  3  by PID 5311 with NIRCam/CLEAR\n",
      "...in cycle  3  by PID 5311 with NIRCam/Grism\n",
      "...in cycle  3  by PID 5311 with NIRCam/CLEAR\n",
      "\n",
      "\n",
      "TOI-125 b  is being observed...\n",
      "...in cycle  2  by PID 4126 with NIRSpec/G395H\n",
      "\n",
      "\n",
      "TOI-849 b  is being observed...\n",
      "...in cycle  3  by PID 5967 with NIRSpec/G395H\n",
      "...in cycle  3  by PID 5967 with NIRSpec/G395H\n",
      "...in cycle  3  by PID 5967 with NIRSpec/G395H\n",
      "\n",
      "\n",
      "K2-18 b  is being observed...\n",
      "...in cycle  1  by PID 2372 with NIRSpec/G235H\n",
      "...in cycle  1  by PID 2372 with NIRSpec/G235H\n",
      "...in cycle  1  by PID 2372 with NIRSpec/G395H\n",
      "...in cycle  1  by PID 2372 with NIRSpec/G395H\n",
      "...in cycle  1  by PID 2372 with NIRSpec/G395H\n",
      "...in cycle  1  by PID 2372 with NIRSpec/G395H\n",
      "...in cycle  1  by PID 2372 with NIRSpec/G395H\n",
      "...in cycle  1  by PID 2722 with NIRSpec/G395H\n",
      "...in cycle  1  by PID 2722 with MIRI/LRS\n",
      "...in cycle  1  by PID 2722 with NIRISS/SOSS\n",
      "\n",
      "\n",
      "TOI-2076 d  is being observed...\n",
      "...in cycle  3  by PID 5959 with NIRSpec/G395H\n",
      "...in cycle  3  by PID 5959 with NIRISS/SOSS\n",
      "\n",
      "\n",
      "TOI-836 c  is being observed...\n",
      "...in cycle  1  by PID 2512 with NIRSpec/G395H\n",
      "\n",
      "\n",
      "TOI-4010 b  is being observed...\n",
      "...in cycle  3  by PID 5894 with NIRSpec/PRISM\n",
      "\n",
      "\n",
      "TOI-2076 b  is being observed...\n",
      "...in cycle  3  by PID 5959 with NIRSpec/G395H\n",
      "...in cycle  3  by PID 5959 with NIRISS/SOSS\n",
      "\n",
      "\n",
      "TOI-4336 A b  is being observed...\n",
      "...in cycle  3  by PID 4711 with NIRISS/SOSS\n",
      "...in cycle  3  by PID 4711 with NIRSpec/G395H\n",
      "\n",
      "\n",
      "HD 207496 b  is being observed...\n",
      "...in cycle  3  by PID 6284 with NIRCam/Grism\n",
      "...in cycle  3  by PID 6284 with NIRCam/CLEAR\n",
      "...in cycle  3  by PID 6284 with NIRCam/Grism\n",
      "...in cycle  3  by PID 6284 with NIRCam/CLEAR\n",
      "\n",
      "\n"
     ]
    }
   ],
   "source": [
    "for sn in jwst_subneptunes:\n",
    "\n",
    "    print(sn,' is being observed...')\n",
    "\n",
    "    for i in range(len(thedict['Planet'])):\n",
    "\n",
    "        if thedict['Planet'][i] == sn:\n",
    "\n",
    "            print('...in cycle ', \n",
    "                  int(thedict['Cycle'][i]),\n",
    "                  ' by PID', int(thedict['PID'][i]), \n",
    "                  'with',thedict['Instrument/Mode'][i])\n",
    "\n",
    "    print('\\n')"
   ]
  },
  {
   "cell_type": "code",
   "execution_count": null,
   "id": "d17209e4-5ea3-47ef-a644-5eeffc0688ee",
   "metadata": {},
   "outputs": [],
   "source": []
  }
 ],
 "metadata": {
  "kernelspec": {
   "display_name": "Python 3 (ipykernel)",
   "language": "python",
   "name": "python3"
  },
  "language_info": {
   "codemirror_mode": {
    "name": "ipython",
    "version": 3
   },
   "file_extension": ".py",
   "mimetype": "text/x-python",
   "name": "python",
   "nbconvert_exporter": "python",
   "pygments_lexer": "ipython3",
   "version": "3.9.16"
  }
 },
 "nbformat": 4,
 "nbformat_minor": 5
}
